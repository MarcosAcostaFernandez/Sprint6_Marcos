import pandas as pd
import plotly.express as px
car_data = pd.read_csv(r'C:/Users/marc-/OneDrive/Escritorio/SPRINT6/vehicles_us.csv')
print(car_data.head())
car_data.info()


fig = px.histogram(car_data, x="odometer") # crear un histograma
fig.show() # crear gráfico de dispersión

car_data = pd.read_csv('vehicles_us.csv') # leer los datos
fig = px.scatter(car_data, x="odometer", y="price") # crear un gráfico de dispersión
fig.show() # crear gráfico de dispersión
